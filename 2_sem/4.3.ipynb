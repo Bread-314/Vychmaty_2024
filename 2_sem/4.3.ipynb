{
 "cells": [
  {
   "cell_type": "code",
   "execution_count": 31,
   "id": "da01fc29",
   "metadata": {},
   "outputs": [],
   "source": [
    "import numpy as np\n",
    "import matplotlib.pyplot as plt\n",
    "from matplotlib.pyplot import figure\n",
    "\n",
    "from decimal import Decimal, getcontext\n",
    "import math\n",
    "\n",
    "from functools import lru_cache"
   ]
  },
  {
   "cell_type": "markdown",
   "id": "1c7bf87c",
   "metadata": {},
   "source": [
    "# Задача 1. Интеграл через квадратуру на разностных схемах.\n",
    "#### Рассчитать с машинной точностью интеграл с неопределенностью $\\int\\limits_{-1}^{1}{\\frac{\\sin{x/2}}{e^x-1}dx}$ квадратурой на разностных схемах."
   ]
  },
  {
   "cell_type": "code",
   "execution_count": 2,
   "id": "c478a0e8",
   "metadata": {},
   "outputs": [],
   "source": [
    "###############################################################################\n",
    "#  1) Вспомогательные функции для разностных квадратур                        #\n",
    "###############################################################################\n",
    "getcontext().prec = 100  # повышенная точность для Decimal\n",
    "\n",
    "@lru_cache(None)\n",
    "def factorial_dec(n: int) -> Decimal:\n",
    "    if n < 0:\n",
    "        raise ValueError(\"Negative factorial not defined\")\n",
    "    if n == 0 or n == 1:\n",
    "        return Decimal(1)\n",
    "    return Decimal(n) * factorial_dec(n - 1)\n",
    "\n",
    "@lru_cache(None)\n",
    "def comb_dec(n: int, k: int) -> Decimal:\n",
    "    if k < 0 or k > n:\n",
    "        return Decimal(0)\n",
    "    return factorial_dec(n) / (factorial_dec(k) * factorial_dec(n - k))\n",
    "\n",
    "@lru_cache(None)\n",
    "def D(n: int, j: int) -> Decimal:\n",
    "    \"\"\"\n",
    "    Вычисляет D_n^(j) по заданной рекуррентной формуле (см. теорию).\n",
    "    \"\"\"\n",
    "    if j == 0:\n",
    "        return Decimal(1)\n",
    "    # \"прогреваем\" кэш:\n",
    "    _ = D(n, j-1)\n",
    "    return _compute_all_D_up_to(n, j)[j]\n",
    "\n",
    "@lru_cache(None)\n",
    "def _compute_all_D_up_to(n: int, J: int):\n",
    "    results = [Decimal(0)]*(J+1)\n",
    "    results[0] = Decimal(1)\n",
    "    for j in range(J):\n",
    "        s = Decimal(0)\n",
    "        for k in range(n + 2*j + 1):\n",
    "            for l in range(j+1):\n",
    "                val = (\n",
    "                    Decimal((-1)**k)\n",
    "                    * results[l]\n",
    "                    * comb_dec(n+2*l, k - (j - l))\n",
    "                    * Decimal((n + 2*j - 2*k)**(n + 2*j + 2))\n",
    "                    / (Decimal(2)**(n + 2*j + 2) * factorial_dec(n + 2*j + 2))\n",
    "                )\n",
    "                s += val\n",
    "        # Финальная формула берёт только s, без + results[j].\n",
    "        results[j+1] = s\n",
    "    return results\n",
    "\n",
    "@lru_cache(None)\n",
    "def A(k: int, n: int, m: int) -> Decimal:\n",
    "    \"\"\"\n",
    "    A_{k,n}^m = sum_{l=0}^m [ (-1)^(k-m) * D_n^(l) * C_{n+2l}^{k - m + l} ].\n",
    "    \"\"\"\n",
    "    s = Decimal(0)\n",
    "    sign = Decimal((-1)**(k - m))\n",
    "    for l in range(m+1):\n",
    "        s += (\n",
    "            sign\n",
    "            * D(n, l)\n",
    "            * comb_dec(n+2*l, k - m + l)\n",
    "        )\n",
    "    return s\n",
    "\n",
    "@lru_cache(None)\n",
    "def W_list(m: int):\n",
    "    \"\"\"\n",
    "    Коэффициенты W_k^m (k=0..2m) в Decimal.\n",
    "\n",
    "      W_k^m = sum_{n=0}^m [ A_{k,2n}^{m-n} / (2^(2n)*(2n+1)!) ].\n",
    "    \"\"\"\n",
    "    result = []\n",
    "    for k in range(2*m + 1):\n",
    "        s = Decimal(0)\n",
    "        for n_ in range(m+1):\n",
    "            a_val = A(k, 2*n_, m - n_)\n",
    "            denom = (Decimal(2)**(2*n_) * factorial_dec(2*n_+1))\n",
    "            s += a_val / denom\n",
    "        result.append(s)\n",
    "    return result\n",
    "\n",
    "def build_function_values_diff_scheme(f, a: float, b: float, J: int, m: int):\n",
    "    \"\"\"\n",
    "    Центральная сетка: x_j = a + (j+0.5)*h, j=-m..(J-1+m).\n",
    "    Возвращает (y_values, h, calls).\n",
    "    \"\"\"\n",
    "    h = (b - a)/J\n",
    "    values = []\n",
    "    for j_real in range(-m, (J - 1) + m + 1):\n",
    "        x_val = a + (j_real + 0.5)*h\n",
    "        values.append(f(x_val))\n",
    "    calls = len(values)\n",
    "    return values, h, calls\n",
    "\n",
    "def integrate_by_diff_scheme(f, a: float, b: float, J: int, m: int):\n",
    "    \"\"\"\n",
    "    Разностная (дифференсная) квадратура порядка 2m:\n",
    "      ∫[a..b] f(x) dx ≈ h Σ_j Σ_k [ W_{m-k} * f( x_{j+k} ) ].\n",
    "    Возвращает (approx, calls).\n",
    "    \"\"\"\n",
    "    y_values, h, calls = build_function_values_diff_scheme(f, a, b, J, m)\n",
    "    W_dec = W_list(m)\n",
    "    W = [float(wd) for wd in W_dec]\n",
    "    \n",
    "    offset = m\n",
    "    total_sum = 0.0\n",
    "    for j in range(J):\n",
    "        loc_sum = 0.0\n",
    "        for k in range(-m, m+1):\n",
    "            idx = (j + k) + offset\n",
    "            loc_sum += W[m - k] * y_values[idx]\n",
    "        total_sum += loc_sum\n",
    "    return (h * total_sum, calls)\n",
    "\n",
    "###############################################################################\n",
    "#        2) Метод Симпсона (классический) с заданным числом вызовов f         #\n",
    "###############################################################################\n",
    "\n",
    "def build_function_values_simpson(f, a: float, b: float, n: int):\n",
    "    h = (b - a)/n\n",
    "    y = [f(a + i*h) for i in range(n+1)]\n",
    "    return y, h\n",
    "\n",
    "def simpson_by_calls(f, a: float, b: float, calls: int):\n",
    "    \"\"\"\n",
    "    Метод Симпсона «под число вызовов calls».\n",
    "    Если (calls-1) нечётно, уменьшаем n на 1.\n",
    "    Если n < 2, берём n=2.\n",
    "    Возвращает (approx, real_calls).\n",
    "    \"\"\"\n",
    "    n = calls - 1\n",
    "    if n % 2 == 1:\n",
    "        n -= 1\n",
    "    if n < 2:\n",
    "        n = 2\n",
    "    \n",
    "    y, h = build_function_values_simpson(f, a, b, n)\n",
    "    real_calls = n + 1\n",
    "    \n",
    "    # Классическая формула Симпсона\n",
    "    s_odd = 0.0\n",
    "    s_even = 0.0\n",
    "    for i in range(1, n, 2):\n",
    "        s_odd += y[i]\n",
    "    for i in range(2, n, 2):\n",
    "        s_even += y[i]\n",
    "    simpson_approx = (h/3.0)*(y[0] + y[n] + 4.0*s_odd + 2.0*s_even)\n",
    "\n",
    "    return (simpson_approx, real_calls)"
   ]
  },
  {
   "cell_type": "code",
   "execution_count": 3,
   "id": "adf6625b",
   "metadata": {},
   "outputs": [
    {
     "name": "stdout",
     "output_type": "stream",
     "text": [
      "With m = 3: J = 35, calls=41 res = 1.0130392362326253\n",
      "With m = 4: J = 24, calls=32 res = 1.0130392362326259\n",
      "With m = 5: J = 14, calls=24 res = 1.0130392362326262\n",
      "With m = 6: J = 11, calls=23 res = 1.0130392362326264\n",
      "With m = 7: J = 11, calls=25 res = 1.0130392362326262\n",
      "With m = 8: J = 8, calls=24 res = 1.0130392362326262\n",
      "With m = 9: J = 11, calls=29 res = 1.0130392362326264\n",
      "With m = 10: J = 6, calls=26 res = 1.0130392362326262\n",
      "With m = 20: J = 7, calls=47 res = 1.0130392362326262\n"
     ]
    }
   ],
   "source": [
    "def main():\n",
    "    def f1(x: float) -> float:\n",
    "        if (x == 0):\n",
    "            return 0.5\n",
    "        return math.sin(x / 2.) / (math.exp(x) - 1.)\n",
    "\n",
    "    a1, b1 = -1., 1.0\n",
    "    eps = 1e-16 # требуемая точность\n",
    "   \n",
    "    for m in [3, 4, 5, 6, 7, 8, 9, 10, 20]:\n",
    "        prev, diff_calls = integrate_by_diff_scheme(f1, a1, b1, 2, m)\n",
    "        J = 3\n",
    "        new, diff_calls = integrate_by_diff_scheme(f1, a1, b1, J, m)\n",
    "        \n",
    "        while (np.abs(new - prev) > eps):\n",
    "            prev = new\n",
    "            J += 1\n",
    "            new, diff_calls = integrate_by_diff_scheme(f1, a1, b1, J, m)\n",
    "        \n",
    "        print(f\"With m = {m}: J = {J}, calls={diff_calls:2d} res = {new:.16f}\")\n",
    "\n",
    "if __name__ == \"__main__\":\n",
    "    main()"
   ]
  },
  {
   "cell_type": "markdown",
   "id": "2d62f74e",
   "metadata": {},
   "source": [
    "# Задача 2. Постоянная Эйлера-Маскерони методом прямой сшивки\n",
    "#### Используя методику прямой сшивки при взятии сумм рядов, рассчитать постоянную Эйлера-Маскерони с ошибкой в 13 знаке по формуле $\\gamma_E = \\lim _{n \\rightarrow \\infty}(1+1 / 2+1 / 3+1 / 4+\\ldots+1 / n-\\ln n)$\n",
    "\n",
    "$\\gamma_E = -\\ln(j_m + 1/2) + \\sum_{j = 1}^{j_m - m}\\frac{1}{j} +\\sum_{j=j_m-m+1}^{j_m+m}\\left(1-I_{j+m-j_m-1}^m\\right)/j +O\\left(1 / j_{\\mathrm{s}}^{2 m+2}\\right)$"
   ]
  },
  {
   "cell_type": "code",
   "execution_count": 4,
   "id": "c3edd73a",
   "metadata": {},
   "outputs": [],
   "source": [
    "def I_list(m):\n",
    "    W_dec = W_list(m)\n",
    "    result = []\n",
    "    I0 = Decimal(0)\n",
    "    for k in range(2*m):\n",
    "        I0 += W_dec[2*m - k]\n",
    "        result.append(I0)\n",
    "    return result\n",
    "\n",
    "def Euler_Mascheroni_constant(j_m, m):\n",
    "    sum = Decimal(0)\n",
    "    for j in range(1, j_m - m + 1):\n",
    "        sum += Decimal(1 / j)\n",
    "    \n",
    "    I = I_list(m)\n",
    "    for j in range(j_m - m + 1, j_m + m + 1, 1):\n",
    "        sum += (Decimal(1) - I[j + m - j_m - 1]) * Decimal(1 / j)\n",
    "        \n",
    "    return float(Decimal(-math.log(j_m + 0.5)) + sum)"
   ]
  },
  {
   "cell_type": "code",
   "execution_count": 6,
   "id": "63532e36",
   "metadata": {},
   "outputs": [
    {
     "name": "stdout",
     "output_type": "stream",
     "text": [
      "With m = 4: j_m = 37 res = 0.57721566490153\n",
      "With m = 5: j_m = 33 res = 0.57721566490153\n",
      "With m = 6: j_m = 24 res = 0.57721566490153\n",
      "With m = 7: j_m = 24 res = 0.57721566490153\n",
      "With m = 8: j_m = 24 res = 0.57721566490153\n",
      "With m = 9: j_m = 19 res = 0.57721566490153\n",
      "With m = 10: j_m = 24 res = 0.57721566490153\n",
      "With m = 20: j_m = 24 res = 0.57721566490153\n"
     ]
    }
   ],
   "source": [
    "eps = 1e-16\n",
    "\n",
    "for m in [4, 5, 6, 7, 8, 9, 10, 20]:\n",
    "    j_m = m\n",
    "    prev = Euler_Mascheroni_constant(j_m, m)\n",
    "    j_m += 1\n",
    "    new = Euler_Mascheroni_constant(j_m, m)\n",
    "\n",
    "    while (np.abs(new - prev) > eps):\n",
    "        prev = new\n",
    "        j_m += 1\n",
    "        new = Euler_Mascheroni_constant(j_m, m)\n",
    "\n",
    "    print(f\"With m = {m}: j_m = {j_m} res = {new:.14f}\")"
   ]
  },
  {
   "cell_type": "markdown",
   "id": "ff55e3ca",
   "metadata": {},
   "source": [
    "# Задача 3. Сумма ряда\n",
    "#### Вычислить сумму ряда $\\sum_{n=1}^{\\infty} \\frac{n^2+1}{n^4+n^2+1} \\operatorname{сos}(2 n)$ с точностью $\\varepsilon=10^{-6}$, применяя метод Куммера.\n",
    "\n",
    "Для точности $10^{-6}$ нужно слагаемых ряда $c_k$:"
   ]
  },
  {
   "cell_type": "code",
   "execution_count": 8,
   "id": "3ad6b9c4",
   "metadata": {},
   "outputs": [
    {
     "data": {
      "text/plain": [
       "10.486983549970352"
      ]
     },
     "execution_count": 8,
     "metadata": {},
     "output_type": "execute_result"
    }
   ],
   "source": [
    "(10**6 / 5)**0.2 - 1"
   ]
  },
  {
   "cell_type": "code",
   "execution_count": 13,
   "id": "ff2d4b81",
   "metadata": {},
   "outputs": [
    {
     "name": "stdout",
     "output_type": "stream",
     "text": [
      "-0.3512657639505239\n"
     ]
    }
   ],
   "source": [
    "S = 0\n",
    "for n in range(1, 11):\n",
    "    S += math.cos(2. * n) / (n**2 * (n**4 + n**2 + 1.))\n",
    "res = math.pi**2 / 6 - math.pi + 1 - S\n",
    "print(res)"
   ]
  },
  {
   "cell_type": "markdown",
   "id": "98edb060",
   "metadata": {},
   "source": [
    "# Задача 4. Предел\n",
    "#### Взять предел $\\lim _{x \\rightarrow 0} \\frac{y(x)-1}{x}$,  где $\\begin{split}\n",
    "y(x)= \\begin{cases}\\operatorname{ch} \\sqrt{|x|}, & x>0 \\\\ \\cos \\sqrt{|x|}, & x<0\\end{cases}\n",
    "\\end{split}$"
   ]
  },
  {
   "cell_type": "code",
   "execution_count": 52,
   "id": "221752d9",
   "metadata": {},
   "outputs": [
    {
     "data": {
      "image/png": "[encoded data removed]",
      "text/plain": [
       "<Figure size 640x480 with 1 Axes>"
      ]
     },
     "metadata": {
      "needs_background": "light"
     },
     "output_type": "display_data"
    },
    {
     "name": "stdout",
     "output_type": "stream",
     "text": [
      "0.500000041358516\n",
      "0.5000000413701877\n"
     ]
    }
   ],
   "source": [
    "def y_val(f, j, dx):\n",
    "    if (j >= 0):\n",
    "        return f((2*j + 1) * dx / 2.)\n",
    "    else:\n",
    "        return f(-(2*j - 1) * dx / 2.)\n",
    "\n",
    "def lim(f, N: int, m: int, dx: float):\n",
    "    s = 0\n",
    "    for n in range(N):\n",
    "        for k in range(2*m + n%2):\n",
    "            s += float(A(k, n, m - int((n - n%2)/2))) * (-1)**n / 4**n / float(factorial_dec(n)) * y_val(f, 2*m + n%2 - 2*k, dx)\n",
    "    return s\n",
    "\n",
    "def y_ch(x):\n",
    "    return (np.cosh(np.abs(x)**0.5) - 1) / x\n",
    "def f_ch(x):\n",
    "    if (x > 0):\n",
    "        return y_ch(x)\n",
    "    else:\n",
    "        return y_ch(-x)\n",
    "\n",
    "def y_cos(x):\n",
    "    return (np.cos(np.abs(x)**0.5) - 1) / x\n",
    "def f_cos(x):\n",
    "    if (x < 0):\n",
    "        return y_cos(x)\n",
    "    else:\n",
    "        return y_cos(-x)\n",
    "\n",
    "xs = np.logspace(-10, -1, 100)\n",
    "ys_ch = np.array([lim(f_ch, 5, 20, dx) for dx in xs])\n",
    "ys_cos = np.array([lim(f_cos, 5, 20, dx) for dx in xs])\n",
    "\n",
    "figure(figsize=(4, 3), dpi=160)\n",
    "plt.plot(xs, ys_ch, '-', label='f_ch', lw=0.5)\n",
    "#plt.plot(xs, lim(f_cos, 5, 20, xs), '-', label='f_cos', lw=0.5)\n",
    "plt.plot(xs, ys_cos, '-', label='f_cos', lw=0.5)\n",
    "\n",
    "plt.legend(loc = 'best')\n",
    "plt.xscale('log')\n",
    "plt.show()\n",
    "print(lim(f_cos, 5, 20, 1e-10))\n",
    "print(lim(f_ch, 5, 20, 1e-10))"
   ]
  },
  {
   "cell_type": "code",
   "execution_count": null,
   "id": "dc28f1fc",
   "metadata": {},
   "outputs": [],
   "source": []
  }
 ],
 "metadata": {
  "kernelspec": {
   "display_name": "Python 3 (ipykernel)",
   "language": "python",
   "name": "python3"
  },
  "language_info": {
   "codemirror_mode": {
    "name": "ipython",
    "version": 3
   },
   "file_extension": ".py",
   "mimetype": "text/x-python",
   "name": "python",
   "nbconvert_exporter": "python",
   "pygments_lexer": "ipython3",
   "version": "3.9.12"
  }
 },
 "nbformat": 4,
 "nbformat_minor": 5
}
