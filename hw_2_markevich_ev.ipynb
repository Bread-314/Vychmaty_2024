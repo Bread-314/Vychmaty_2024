{
 "cells": [
  {
   "cell_type": "markdown",
   "metadata": {},
   "source": [
    "## Домашнее задание\n",
    "\n",
    "__Задание 1. Генератор случайных матриц.__\n",
    "\n",
    "Реализовать генератор матриц, который должен поддерживать функции:\n",
    "* Генерация абсолютно случайной матрицы $n\\times m$\n",
    "* Генерация случайной диагональной матрицы $n\\times n$\n",
    "* Генерация случайной верхнетреугольной матрицы\n",
    "* Генерация случайной нижнетреугольной матрицы\n",
    "* Генерация симметричной матрицы\n",
    "* Генерация возмущения матрицы $n\\times m$, каждый элемент которой не превосходит по модулю заданный $\\varepsilon$. Оценить величину нормы матрицы возмущений в зависимости от параметра $\\varepsilon$ (оценить верхную границу).\n",
    "\n",
    "Оценить численно вероятность того, что созданная матрица будет вырожденной для какого-либо случая выше. #создать несколько матриц и посчитать отношение нулевых ко всем"
   ]
  },
  {
   "cell_type": "code",
   "execution_count": 2,
   "metadata": {},
   "outputs": [],
   "source": [
    "#Письменные уражнения в пдф файле\n",
    "#Ex_1\n",
    "import numpy as np\n",
    "\n",
    "def matrix_generate(rows, columns, type_ = \"full\", eps = 0):\n",
    "    \"\"\"\n",
    "    matrix_generate(rows, columns, type_ = \"full\")\n",
    "\n",
    "    Создаёт случайную матрицу выбранного типа.\n",
    "\n",
    "    Если матрицу нужных размеров создать нельзя должен выдать\n",
    "    строку f\"Error with type {type_} and shape ({rows},{columns})\".\n",
    "\n",
    "    Parameters\n",
    "    ----------\n",
    "\n",
    "    rows : int\n",
    "        Количество строк в создаваемой матрице.\n",
    "    columns : int\n",
    "        Количество столбцов в создаваемой матрице.\n",
    "    type_ : str, optional\n",
    "        Тип создаваемой матрицы: \"full\", \"diagonal\", \"upper_triangular\", \"lower_triangular\", \"symmetric\",\n",
    "        \"singular\" и т.д.\n",
    "    eps: float, optional\n",
    "        Дополнительное число, использующееся при генерации для некоторых типов матриц.\n",
    "\n",
    "    Returns\n",
    "    -------\n",
    "    out : ndarray or str\n",
    "        Выдаёт матрицу нужного типа либо ошибку.\n",
    "\n",
    "    Notes\n",
    "    -----\n",
    "    Поддерживаемые типы матриц:\n",
    "        \"full\",\"diagonal\",\"upper_triangular\",\"lower_triangular\",\n",
    "        \"symmetric\", \"singular\",\n",
    "        ...\n",
    "\n",
    "    \"\"\"\n",
    "\n",
    "    A = None\n",
    "\n",
    "    if type_ == \"full\":\n",
    "        A = np.random.random(size=(rows, columns))\n",
    "\n",
    "    elif type_ == \"diagonal\":\n",
    "        if rows != columns:\n",
    "            return f\"Error with type {type_} and shape ({rows},{columns})\"\n",
    "        else:\n",
    "            A = np.diag(np.random.rand(rows, columns))\n",
    "\n",
    "    elif type_ == \"upper_triangular\":\n",
    "        A = np.random.random(size=(rows, columns))\n",
    "        A = np.triu(A)\n",
    "                    \n",
    "    # Для нижнетреугольной подумайте, как сделать без циклов for :) (звёздочка)\n",
    "    elif type_ == \"lower_triangular\":\n",
    "        A = np.random.random(size=(rows, columns))\n",
    "        A = np.tril(A)\n",
    "        \n",
    "    # И эту секцию тоже перепишите без for (звёздочка). Учтите, что портить uniform распределение нельзя.\n",
    "    elif type_ == \"symmetric\":\n",
    "        if rows != columns:\n",
    "            return f\"Error with type {type_} and shape ({rows},{columns})\"\n",
    "        else:\n",
    "            A = np.random.random(size=(rows, columns))\n",
    "            A = A + A.T\n",
    "            \n",
    "    elif type_ == \"singular\":\n",
    "        A = np.random.random(size=(rows, columns))\n",
    "        A[:, -1] = A[:, 0] # делаем последний столбец равным первому\n",
    "        A[:, np.random.permutation(A.shape[1])] #shuffle\n",
    "        \n",
    "    elif type_ == \"step\":\n",
    "        A = np.triu(np.random.random((rows, rows)), 1) + np.eye(rows)\n",
    "        indices = list(range(rows))\n",
    "        np.random.shuffle(indices)\n",
    "        A = np.delete(A, indices[:rows - columns], axis=0)\n",
    "        A = np.concatenate((A, np.zeros((rows - columns, rows))), axis=0)\n",
    "            \n",
    "    elif type_ == \"perturbation\":\n",
    "        A = np.random.uniform(-eps, eps, size=(rows, columns))\n",
    "\n",
    "    return A"
   ]
  },
  {
   "cell_type": "code",
   "execution_count": 6,
   "metadata": {},
   "outputs": [
    {
     "name": "stdout",
     "output_type": "stream",
     "text": [
      "[[0.99299055 0.84952361 0.75750753]] \n",
      "\n",
      "[[0.9731102  0.85136072 0.05210937 0.60533974]\n",
      " [0.         0.55807543 0.69204736 0.33151945]\n",
      " [0.         0.         0.95481242 0.90199604]\n",
      " [0.         0.         0.         0.82268744]] \n",
      "\n",
      "[[0.1890788  0.68517515 0.98798629]\n",
      " [0.         0.75863602 0.8584227 ]\n",
      " [0.         0.         0.05338683]\n",
      " [0.         0.         0.        ]] \n",
      "\n",
      "[[1.48978979 1.86426383 1.25809502 0.99470763]\n",
      " [1.86426383 0.57076971 1.80853555 1.01935927]\n",
      " [1.25809502 1.80853555 1.5882462  1.61218491]\n",
      " [0.99470763 1.01935927 1.61218491 0.31395379]] \n",
      "\n",
      "[[1.         0.31714013 0.9980875  0.69606948]\n",
      " [0.         1.         0.66122144 0.95664497]\n",
      " [0.         0.         0.         1.        ]\n",
      " [0.         0.         0.         0.        ]] \n",
      "\n",
      "Error with type symmetric and shape (4,1)\n"
     ]
    }
   ],
   "source": [
    "print(matrix_generate(1, 3),'\\n')\n",
    "print(matrix_generate(4, 4, type_ = \"upper_triangular\"),'\\n')\n",
    "print(matrix_generate(4, 3, type_ = \"upper_triangular\"),'\\n')\n",
    "print(matrix_generate(4, 4, type_ = \"symmetric\"),'\\n')\n",
    "print(matrix_generate(4, 3, type_ = \"step\"),'\\n')\n",
    "print(matrix_generate(4, 1, type_ = \"symmetric\"))"
   ]
  },
  {
   "cell_type": "markdown",
   "metadata": {},
   "source": [
    "Оценка величины нормы матрицы возмущений:\n",
    "$\\|\\mathbf{A}\\|_{F} \\leq\\ \\varepsilon\\ \\sqrt{nm}$"
   ]
  },
  {
   "cell_type": "code",
   "execution_count": 10,
   "metadata": {},
   "outputs": [
    {
     "name": "stdout",
     "output_type": "stream",
     "text": [
      "вероятность получить вырожденную матрицу равна 0.0\n"
     ]
    }
   ],
   "source": [
    "s = 0\n",
    "for i in range(100000):\n",
    "    det = np.linalg.det(matrix_generate(20, 20, type_='full'))\n",
    "    if np.abs(det) < 1e-14:\n",
    "        s+=1\n",
    "\n",
    "print(f\"вероятность получить вырожденную матрицу равна {s/100000}\")"
   ]
  },
  {
   "cell_type": "markdown",
   "metadata": {},
   "source": [
    "__Задание 2. Вычисление матричных норм и числа обусловленности.__\n",
    "\n",
    "Реализовать вычисление трех основных норм векторов (L1, L2 и максимальную) и подчиненных им матричных норм. Реализовать вычисление числа обусловленности.\n",
    "\n",
    "Примечание: для вычисления собственных значений можно использовать linalg.eigvals из модуля scipy."
   ]
  },
  {
   "cell_type": "code",
   "execution_count": 7,
   "metadata": {},
   "outputs": [],
   "source": [
    "#Exersice_2\n",
    "from scipy.linalg import eigvals\n",
    "\n",
    "def l1_norm(x):\n",
    "    return np.sum(np.abs(x)),\n",
    "\n",
    "def l2_norm(x):\n",
    "    return np.sqrt(np.sum(x**2))\n",
    "\n",
    "def max_norm(x):\n",
    "    return np.max(np.abs(x))\n",
    "\n",
    "def l1_norm_matrix(A):\n",
    "    return np.max(np.sum(np.abs(A), axis=0))\n",
    "\n",
    "def l2_norm_matrix(A):\n",
    "    return np.sqrt(np.max(eigvals(np.array(A) @ np.array(A).T)))\n",
    "\n",
    "def max_norm_matrix(A):\n",
    "    return np.max(np.sum(np.abs(A), axis=1))\n",
    "\n",
    "def cond_num(A, norm=\"L1\"):\n",
    "    if norm == \"L1\":\n",
    "        return l1_norm_matrix(A) * l1_norm_matrix(np.linalg.inv(A))\n",
    "    elif norm == \"L2\":\n",
    "        return l2_norm_matrix(A) * l2_norm_matrix(np.linalg.inv(A))\n",
    "    elif norm == \"inf\":\n",
    "        return max_norm_matrix(A) * max_norm_matrix(np.linalg.inv(A))"
   ]
  },
  {
   "cell_type": "markdown",
   "metadata": {},
   "source": [
    "__Задание 6*.  Тензорная свёртка.__\n",
    "\n",
    "Рассмотрим функцию, отображающую шесть тензоров на один тензор: $Z\\left(\\lambda^{(1)}, \\lambda^{(2)}, \\lambda^{(3)}, \\Gamma^{(1)}, \\Gamma^{(2)}, U\\right)$ :\n",
    "\n",
    "\n",
    "$$\n",
    "Z_{a h i j}=\\sum_{b c d e f g} \\lambda^{(1)}{ }_{a b} \\Gamma_{c b d}^{(1)} \\lambda^{(2)}{ }_{d e} \\Gamma_{f e g}^{(2)} \\lambda_{g h}^{(3)} U_{i j c f}\n",
    "$$\n",
    "\n",
    "редположив, что все индексы пробегают значения от 1 до χ, проведите эксперимент и сравните скорость\n",
    "различных реализаций функции Z. Исследуйте значения χ в диапазоне 3–50.\n",
    "\n",
    "\n",
    "- В файле convolution.ipynb вы можете найти релизацию глупого способа вычисления этой свертки, который требует $\\chi^4 \\times \\chi^6=\\chi^{10}$ операций. На самом деле это можно вычислить гораздо быстрее!\n",
    "- С помощью функции numpy.einsum (нужно использовать аргумент optimize), можно добиться намного большей производительности. Чтобы понять, что происходит под капотом, воспользуйтесь функцией numpy.einsum_path. Какое минимальное количество операций требуется для вычисления $Z$ ?\n",
    "- Посмотрев на вывод функции numpy.einsum_path, peализуйте алгоритм для вычисления $Z$, который столь же эффективен, как numpy.einsum, но использует более элементарные numpy.dot и numpy.tensor_dot.\n"
   ]
  },
  {
   "cell_type": "code",
   "execution_count": null,
   "metadata": {},
   "outputs": [],
   "source": [
    "c=5\n",
    "np.random.seed(42) #генерация данных\n",
    "lambda1 = np.random.normal(size=(c, c))\n",
    "lambda2 = np.random.normal(size=(c, c))\n",
    "lambda3 = np.random.normal(size=(c, c))\n",
    "G1 = np.random.normal(size=(c, c, c))\n",
    "G2 = np.random.normal(size=(c, c, c))\n",
    "U = np.random.normal(size=(c, c, c, c))\n",
    "\n",
    "out = np.einsum_path(\"ab,cbd,de,feg,gh,ijcf->ahij\", lambda1, G1, lambda2, G2, lambda3, U, optimize='optimal')\n",
    "print(out[0], out[1])"
   ]
  },
  {
   "cell_type": "code",
   "execution_count": null,
   "metadata": {},
   "outputs": [],
   "source": [
    "def Z_naive(lambda1, lambda2, lambda3, G1, G2, U):\n",
    "    c = lambda1.shape[0]\n",
    "    Z = np.zeros(shape=(c, c, c, c))\n",
    "    for a, b, c, d, e, f, g, h, i, j in itertools.product(*([range(c)]*10)):\n",
    "        Z[a, h, i, j] += lambda1[a, b]*lambda2[d, e]*lambda3[g, h]*G1[c, b, d]*G2[f, e, g]*U[i, j, c, f]\n",
    "    return Z\n",
    "\n",
    "\n",
    "def Z_optimal(lambda1, lambda2, lambda3, G1, G2, U):\n",
    "    c = lambda1.shape[0]\n",
    "\n",
    "    lG1 = np.tensordot(G1, lambda1, axes = ([1], [1]))\n",
    "    lG2 = np.tensordot(G2, lambda2, axes = ([1], [1]))\n",
    "    lG3 = np.tensordot(lG2, lambda3, axes = ([2], [0]))\n",
    "    GG = np.tensordot(lG3, lG1, axes = ([0], [2]))\n",
    "    Z = np.tensordot(GG, U, axes = ([1, 2], [2, 3]))\n",
    "    \n",
    "    return Z"
   ]
  },
  {
   "cell_type": "code",
   "execution_count": null,
   "metadata": {},
   "outputs": [],
   "source": [
    "%%timeit\n",
    "Z = Z_naive(lambda1, lambda2, lambda3, G1, G2, U)"
   ]
  },
  {
   "cell_type": "code",
   "execution_count": null,
   "metadata": {},
   "outputs": [],
   "source": [
    "%%timeit\n",
    "Z = Z_optimal(lambda1, lambda2, lambda3, G1, G2, U)"
   ]
  },
  {
   "cell_type": "code",
   "execution_count": null,
   "metadata": {},
   "outputs": [],
   "source": [
    "%%timeit\n",
    "Z = np.einsum(\"ab,cbd,de,feg,gh,ijcf->ahij\", lambda1, G1, lambda2, G2, lambda3, U, optimize='optimal')\n",
    "#нужно Х^6 операций для Z_optimal"
   ]
  }
 ],
 "metadata": {
  "kernelspec": {
   "display_name": "Python 3",
   "language": "python",
   "name": "python3"
  },
  "language_info": {
   "codemirror_mode": {
    "name": "ipython",
    "version": 3
   },
   "file_extension": ".py",
   "mimetype": "text/x-python",
   "name": "python",
   "nbconvert_exporter": "python",
   "pygments_lexer": "ipython3",
   "version": "3.9.13"
  }
 },
 "nbformat": 4,
 "nbformat_minor": 2
}
